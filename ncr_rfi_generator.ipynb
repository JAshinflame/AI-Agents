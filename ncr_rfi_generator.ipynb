{
  "cells": [
    {
      "cell_type": "markdown",
      "metadata": {
        "id": "view-in-github",
        "colab_type": "text"
      },
      "source": [
        "<a href=\"https://colab.research.google.com/github/JAshinflame/AI-Agents/blob/main/ncr_rfi_generator.ipynb\" target=\"_parent\"><img src=\"https://colab.research.google.com/assets/colab-badge.svg\" alt=\"Open In Colab\"/></a>"
      ]
    },
    {
      "cell_type": "markdown",
      "metadata": {
        "id": "GfHgO1jgnCCg"
      },
      "source": [
        "# NCR & RFI Generator Notebook (Auto-insert placeholders)\n",
        "\n",
        "This notebook will:\n",
        "1. Convert `.doc` templates to `.docx` using LibreOffice if needed.\n",
        "2. Insert Jinja-style placeholders automatically into your templates (NCR & RFI).\n",
        "3. Render the templates using `docxtpl` with provided inputs:\n",
        "   - WIR remark: `Cold joint observed at slab edge and needs rectification.`\n",
        "   - RFI query: `Missing dimension in Section B-B of drawing A-305.`\n",
        "4. Save the filled DOCX files into `./generated/` and try to convert to PDF if LibreOffice is available.\n",
        "\n",
        "⚠️ Notes:\n",
        "- This notebook tries to convert `.doc` → `.docx` using `soffice` (LibreOffice). If LibreOffice is not installed, please convert templates to `.docx` manually before running.\n",
        "- Install required Python packages in the first cell when prompted.\n"
      ],
      "id": "GfHgO1jgnCCg"
    },
    {
      "cell_type": "code",
      "metadata": {
        "id": "0aF5z6L8nCCi"
      },
      "source": [
        "# Install required python packages\n",
        "!pip install python-docx docxtpl --quiet"
      ],
      "execution_count": 6,
      "outputs": [],
      "id": "0aF5z6L8nCCi"
    },
    {
      "cell_type": "code",
      "metadata": {
        "colab": {
          "base_uri": "https://localhost:8080/"
        },
        "id": "BWvCqHcAnCCi",
        "outputId": "0ad26152-e539-4b46-c410-da6611a4f289"
      },
      "source": [
        "import subprocess\n",
        "import sys\n",
        "from pathlib import Path\n",
        "from docx import Document\n",
        "from docxtpl import DocxTemplate\n",
        "import shutil\n",
        "import re\n",
        "import json\n",
        "\n",
        "# === Configuration: input template paths ===\n",
        "ncr_template = Path('/content/Test 7. Non-Conformance Report (NCR).docx')\n",
        "rfi_template = Path('/content/Test 1 . Request for Information RFI.docx')\n",
        "output_folder = Path('/content/generated')\n",
        "output_folder.mkdir(parents=True, exist_ok=True)\n",
        "\n",
        "def convert_doc_to_docx(doc_path: Path) -> Path:\n",
        "    '''Try to convert .doc to .docx using LibreOffice (soffice). Returns .docx Path.'''\n",
        "    if doc_path.suffix.lower() == '.docx':\n",
        "        return doc_path\n",
        "    out_path = doc_path.with_name(doc_path.stem + '_converted' + '.docx') # Use a new name to avoid overwriting original if it was already .docx\n",
        "    # Try soffice conversion\n",
        "    try:\n",
        "        cmd = ['soffice', '--headless', '--convert-to', 'docx', '--outdir', str(doc_path.parent), str(doc_path)]\n",
        "        subprocess.run(cmd, check=True, stdout=subprocess.PIPE, stderr=subprocess.PIPE)\n",
        "        # Soffice creates the new file in the --outdir, with .docx suffix.\n",
        "        # The command doesn't return the exact output path, so we have to guess based on input name.\n",
        "        # The converted file name will be the original stem + .docx in the output directory.\n",
        "        converted_path_guess = doc_path.parent / (doc_path.stem + '.docx')\n",
        "        if converted_path_guess.exists():\n",
        "            print(f'Converted {doc_path.name} -> {converted_path_guess.name}')\n",
        "            return converted_path_guess\n",
        "        else:\n",
        "             raise FileNotFoundError(f'LibreOffice conversion succeeded, but converted file not found at {converted_path_guess}.')\n",
        "\n",
        "    except Exception as e:\n",
        "        print('LibreOffice conversion failed or soffice not found:', e)\n",
        "    raise RuntimeError(f'Unable to convert {doc_path} to .docx automatically. Please convert manually and re-run.')\n",
        "\n",
        "\n",
        "def insert_placeholders(docx_path: Path, placeholder_map: dict) -> Path:\n",
        "    '''Insert placeholders into a copy of the docx and return new path.'''\n",
        "    doc = Document(str(docx_path))\n",
        "    modified = False\n",
        "    out_path = docx_path.with_name(docx_path.stem + '_placeholders.docx')\n",
        "    # Create a new document to hold the modified content\n",
        "    new_doc = Document()\n",
        "\n",
        "    # Store original paragraphs for checking against placeholders\n",
        "    original_paragraphs_text = [p.text.strip().lower() for p in doc.paragraphs]\n",
        "\n",
        "    # For each paragraph, check if it looks like a section heading and inject placeholder in next paragraph\n",
        "    for i, p in enumerate(doc.paragraphs):\n",
        "        text = p.text.strip()\n",
        "        new_doc.add_paragraph(text) # Add the original paragraph text\n",
        "        if not text:\n",
        "            continue\n",
        "        key = text.lower().rstrip(':').strip()\n",
        "        if key in placeholder_map:\n",
        "            placeholder = placeholder_map[key]\n",
        "            new_doc.add_paragraph(placeholder) # Add the placeholder as a new paragraph after the heading\n",
        "            modified = True\n",
        "\n",
        "    # Also attempt to replace common inline labels (e.g., 'Project: XYZ') with 'Project: {{project_name}}' in the new document\n",
        "    inline_pattern_map = {\n",
        "        r'(Project\\s*[:\\-]\\s*)(.+)': r'\\1{{project_name}}',\n",
        "        r'(Client\\s*[:\\-]\\s*)(.+)': r'\\1{{client}}',\n",
        "        r'(Location\\s*[:\\-]\\s*)(.+)': r'\\1{{location}}',\n",
        "        r'(Contractor\\s*[:\\-]\\s*)(.+)': r'\\1{{contractor}}',\n",
        "        r'(Query\\s*[:\\-]\\s*)(.+)': r'\\1{{query}}', # Added inline replacement for Query\n",
        "        r'(Description\\s*[:\\-]\\s*)(.+)': r'\\1{{background}}' # Added inline replacement for Description in RFI context\n",
        "    }\n",
        "    # Iterate through the paragraphs in the newly created document to apply inline replacements\n",
        "    for p in new_doc.paragraphs:\n",
        "        for pat, repl in inline_pattern_map.items():\n",
        "            if re.search(pat, p.text, flags=re.IGNORECASE):\n",
        "                new = re.sub(pat, repl, p.text, flags=re.IGNORECASE)\n",
        "                p.text = new\n",
        "                modified = True\n",
        "\n",
        "    # Check if any placeholders from the map were NOT found as headings or inline labels\n",
        "    # If not found, append them at the end as a fallback\n",
        "    existing_placeholders_in_new_doc = set(re.findall(r'\\{\\{.*?\\}\\}', '\\n'.join([p.text for p in new_doc.paragraphs])))\n",
        "    for key, placeholder in placeholder_map.items():\n",
        "        if placeholder not in existing_placeholders_in_new_doc:\n",
        "            # Check if the original document had a paragraph that matched the key (case-insensitive, stripped)\n",
        "            found_in_original = False\n",
        "            # Check headings\n",
        "            if key in original_paragraphs_text:\n",
        "                found_in_original = True\n",
        "            # Check inline labels using the patterns\n",
        "            if not found_in_original:\n",
        "                 for pat in inline_pattern_map:\n",
        "                    # We check if the original text contains the text part that would be matched by the pattern\n",
        "                    # before the placeholder is inserted. This is a heuristic check.\n",
        "                    text_to_match = pat.split(r'\\s*[:\\-]\\s*')[0].replace(r'(', '').replace(r')', '').lower()\n",
        "                    for original_text in original_paragraphs_text:\n",
        "                         if text_to_match in original_text:\n",
        "                              found_in_original = True\n",
        "                              break\n",
        "                    if found_in_original:\n",
        "                         break\n",
        "\n",
        "\n",
        "            if not found_in_original:\n",
        "                print(f\"Warning: Placeholder '{placeholder}' (for key '{key}') was not found as a heading or inline label. Appending at the end.\")\n",
        "                new_doc.add_paragraph(f\"Missing Placeholder: {placeholder}\") # Add placeholder at the end as a fallback\n",
        "                modified = True\n",
        "\n",
        "\n",
        "    new_doc.save(str(out_path))\n",
        "    if modified:\n",
        "        print('Inserted placeholders into', out_path.name)\n",
        "    else:\n",
        "        print('No explicit headings matched; saved copy with inline replacements (if any).', out_path.name)\n",
        "    return out_path\n",
        "\n",
        "# Prepare placeholder maps (common labels -> placeholder)\n",
        "ncr_placeholders = {\n",
        "    'project': '{{project_name}}',\n",
        "    'project name': '{{project_name}}',\n",
        "    'location': '{{location}}',\n",
        "    'client': '{{client}}',\n",
        "    'contractor': '{{contractor}}',\n",
        "    'description of non-conformance': '{{description}}',\n",
        "    'description': '{{description}}',\n",
        "    'reported by': '{{reported_by}}',\n",
        "    'issued by': '{{issued_by}}',\n",
        "    'ncr no': '{{ncr_number}}',\n",
        "    'ncr number': '{{ncr_number}}',\n",
        "    'action required': '{{action_required}}', # Added based on context_ncr\n",
        "    'severity': '{{severity}}', # Added based on context_ncr\n",
        "    'responsible party': '{{responsible_party}}', # Added based on context_ncr\n",
        "    'due date': '{{due_date}}' # Added based on context_ncr\n",
        "}\n",
        "\n",
        "rfi_placeholders = {\n",
        "    'project': '{{project_name}}',\n",
        "    'drawing reference': '{{drawing_ref}}',\n",
        "    'drawing': '{{drawing_ref}}',\n",
        "    'query': '{{query}}',\n",
        "    'description': '{{background}}', # Mapped 'description' heading to 'background' placeholder\n",
        "    'background': '{{background}}', # Explicitly added 'background' as a key for fallback\n",
        "    'requested action': '{{requested_action}}',\n",
        "    'issued by': '{{issued_by}}',\n",
        "    'rfi no': '{{rfi_number}}',\n",
        "    'rfi number': '{{rfi_number}}', # Added based on context_rfi\n",
        "    'to': '{{to}}', # Added based on context_rfi\n",
        "    'priority': '{{priority}}', # Added based on context_rfi\n",
        "    'due date': '{{due_date}}' # Added based on context_rfi\n",
        "}\n",
        "\n",
        "\n",
        "print('Templates:')\n",
        "print('  NCR:', ncr_template.exists(), ncr_template)\n",
        "print('  RFI:', rfi_template.exists(), rfi_template)"
      ],
      "execution_count": 9,
      "outputs": [
        {
          "output_type": "stream",
          "name": "stdout",
          "text": [
            "Templates:\n",
            "  NCR: True /content/Test 7. Non-Conformance Report (NCR).docx\n",
            "  RFI: True /content/Test 1 . Request for Information RFI.docx\n"
          ]
        }
      ],
      "id": "BWvCqHcAnCCi"
    },
    {
      "cell_type": "code",
      "metadata": {
        "colab": {
          "base_uri": "https://localhost:8080/"
        },
        "id": "o46ILDUDnCCj",
        "outputId": "c23cd135-0035-40fb-ab90-c511dd16bea2"
      },
      "source": [
        "# Convert templates if needed\n",
        "try:\n",
        "    ncr_docx = convert_doc_to_docx(ncr_template)\n",
        "except Exception as e:\n",
        "    # Since manual conversion is done, we can skip this error and assume ncr_template is already docx\n",
        "    print(f\"Skipping automatic NCR conversion: {e}\")\n",
        "    ncr_docx = ncr_template\n",
        "\n",
        "\n",
        "try:\n",
        "    rfi_docx = convert_doc_to_docx(rfi_template)\n",
        "except Exception as e:\n",
        "    # Since manual conversion is done, we can skip this error and assume rfi_template is already docx\n",
        "    print(f\"Skipping automatic RFI conversion: {e}\")\n",
        "    rfi_docx = rfi_template\n",
        "\n",
        "\n",
        "ncr_docx = Path(ncr_docx)\n",
        "rfi_docx = Path(rfi_docx)\n",
        "\n",
        "# --- Add diagnostic step here ---\n",
        "import magic # You might need to install this library: !pip install python-magic\n",
        "\n",
        "def get_file_type(filepath):\n",
        "    try:\n",
        "        mime = magic.Magic(mime=True)\n",
        "        file_type = mime.from_file(str(filepath))\n",
        "        return file_type\n",
        "    except Exception as e:\n",
        "        return f\"Error getting file type: {e}\"\n",
        "\n",
        "print(f\"\\nChecking file type for {ncr_docx.name}: {get_file_type(ncr_docx)}\")\n",
        "print(f\"Checking file type for {rfi_docx.name}: {get_file_type(rfi_docx)}\")\n",
        "# --- End of diagnostic step ---\n",
        "\n",
        "\n",
        "# Insert placeholders\n",
        "ncr_with_ph = insert_placeholders(ncr_docx, ncr_placeholders)\n",
        "rfi_with_ph = insert_placeholders(rfi_docx, rfi_placeholders)\n",
        "\n",
        "print('\\nPrepared template copies with placeholders:\\n', ncr_with_ph, '\\n', rfi_with_ph)"
      ],
      "execution_count": 13,
      "outputs": [
        {
          "output_type": "stream",
          "name": "stdout",
          "text": [
            "\n",
            "Checking file type for Test 7. Non-Conformance Report (NCR).docx: application/vnd.openxmlformats-officedocument.wordprocessingml.document\n",
            "Checking file type for Test 1 . Request for Information RFI.docx: application/vnd.openxmlformats-officedocument.wordprocessingml.document\n",
            "Warning: Placeholder '{{project_name}}' (for key 'project') was not found as a heading or inline label. Appending at the end.\n",
            "Warning: Placeholder '{{project_name}}' (for key 'project name') was not found as a heading or inline label. Appending at the end.\n",
            "Warning: Placeholder '{{location}}' (for key 'location') was not found as a heading or inline label. Appending at the end.\n",
            "Warning: Placeholder '{{client}}' (for key 'client') was not found as a heading or inline label. Appending at the end.\n",
            "Warning: Placeholder '{{contractor}}' (for key 'contractor') was not found as a heading or inline label. Appending at the end.\n",
            "Warning: Placeholder '{{description}}' (for key 'description of non-conformance') was not found as a heading or inline label. Appending at the end.\n",
            "Warning: Placeholder '{{description}}' (for key 'description') was not found as a heading or inline label. Appending at the end.\n",
            "Warning: Placeholder '{{reported_by}}' (for key 'reported by') was not found as a heading or inline label. Appending at the end.\n",
            "Warning: Placeholder '{{issued_by}}' (for key 'issued by') was not found as a heading or inline label. Appending at the end.\n",
            "Warning: Placeholder '{{ncr_number}}' (for key 'ncr no') was not found as a heading or inline label. Appending at the end.\n",
            "Warning: Placeholder '{{ncr_number}}' (for key 'ncr number') was not found as a heading or inline label. Appending at the end.\n",
            "Warning: Placeholder '{{action_required}}' (for key 'action required') was not found as a heading or inline label. Appending at the end.\n",
            "Warning: Placeholder '{{severity}}' (for key 'severity') was not found as a heading or inline label. Appending at the end.\n",
            "Warning: Placeholder '{{responsible_party}}' (for key 'responsible party') was not found as a heading or inline label. Appending at the end.\n",
            "Warning: Placeholder '{{due_date}}' (for key 'due date') was not found as a heading or inline label. Appending at the end.\n",
            "Inserted placeholders into Test 7. Non-Conformance Report (NCR)_placeholders.docx\n",
            "No explicit headings matched; saved copy with inline replacements (if any). Test 1 . Request for Information RFI_placeholders.docx\n",
            "\n",
            "Prepared template copies with placeholders:\n",
            " /content/Test 7. Non-Conformance Report (NCR)_placeholders.docx \n",
            " /content/Test 1 . Request for Information RFI_placeholders.docx\n"
          ]
        }
      ],
      "id": "o46ILDUDnCCj"
    },
    {
      "cell_type": "code",
      "metadata": {
        "id": "8410124a"
      },
      "source": [
        "!pip install python-magic --quiet"
      ],
      "id": "8410124a",
      "execution_count": 12,
      "outputs": []
    },
    {
      "cell_type": "code",
      "metadata": {
        "colab": {
          "base_uri": "https://localhost:8080/"
        },
        "id": "gaeOYBGXnCCj",
        "outputId": "cd29b468-d0e7-4178-9e12-aceba817c6d0"
      },
      "source": [
        "# === Render templates with example data ===\n",
        "from datetime import date\n",
        "import uuid\n",
        "\n",
        "today = date.today().isoformat()\n",
        "ncr_number = f'NCR-{date.today().strftime(\"%Y%m%d\")}-{str(uuid.uuid4())[:6].upper()}'\n",
        "rfi_number = f'RFI-{date.today().strftime(\"%Y%m%d\")}-{str(uuid.uuid4())[:6].upper()}'\n",
        "\n",
        "context_ncr = {\n",
        "    'project_name': 'Al Zahra Commercial Tower',\n",
        "    'location': 'Lusail',\n",
        "    'client': 'Future Real Estate W.L.L.',\n",
        "    'contractor': 'ASB Trading & Contracting W.L.L.',\n",
        "    'ncr_number': ncr_number,\n",
        "    'ncr_date': today,\n",
        "    'reported_by': 'Site Inspector: Eng. Ahmed',\n",
        "    'issued_by': 'QA Manager: Ms. Fatima',\n",
        "    'description': 'Cold joint observed at slab edge and needs rectification.',\n",
        "    'action_required': 'Investigate cold joint; prepare surface and perform repair as per structural repair procedure. Document rectification and re-inspect.',\n",
        "    'severity': 'Major',\n",
        "    'responsible_party': 'ASB Trading & Contracting W.L.L.',\n",
        "    'due_date': today\n",
        "}\n",
        "\n",
        "context_rfi = {\n",
        "    'project_name': 'Al Zahra Commercial Tower',\n",
        "    'rfi_number': rfi_number,\n",
        "    'rfi_date': today,\n",
        "    'issued_by': 'Site Inspector: Eng. Ahmed',\n",
        "    'to': 'ASB Trading & Contracting W.L.L.',\n",
        "    'drawing_ref': 'A-305',\n",
        "    'query': 'Missing dimension in Section B-B of drawing A-305.',\n",
        "    'background': 'While reviewing drawing set, the dimension required to proceed with the work was not present in Section B-B.',\n",
        "    'requested_action': 'Please provide the missing dimension for Section B-B of drawing A-305 or advise the correct dimension to be used.',\n",
        "    'priority': 'High',\n",
        "    'due_date': today,\n",
        "}\n",
        "def render_docx(template_path, context, output_name):\n",
        "    tpl = DocxTemplate(str(template_path))\n",
        "    tpl.render(context)\n",
        "    out_path = output_folder / output_name\n",
        "    tpl.save(str(out_path))\n",
        "    print('Saved:', out_path)\n",
        "\n",
        "# Render\n",
        "ncr_out = f'NCR_{ncr_number}.docx'\n",
        "rfi_out = f'RFI_{rfi_number}.docx'\n",
        "render_docx(ncr_with_ph, context_ncr, ncr_out)\n",
        "render_docx(rfi_with_ph, context_rfi, rfi_out)\n",
        "\n",
        "print('\\nGenerated files in:', output_folder)\n"
      ],
      "execution_count": 14,
      "outputs": [
        {
          "output_type": "stream",
          "name": "stdout",
          "text": [
            "Saved: /content/generated/NCR_NCR-20251022-B2E59B.docx\n",
            "Saved: /content/generated/RFI_RFI-20251022-63B185.docx\n",
            "\n",
            "Generated files in: /content/generated\n"
          ]
        }
      ],
      "id": "gaeOYBGXnCCj"
    },
    {
      "cell_type": "code",
      "metadata": {
        "colab": {
          "base_uri": "https://localhost:8080/"
        },
        "id": "iCpmGetVnCCj",
        "outputId": "c99980bc-732b-48aa-ec34-27342af64a75"
      },
      "source": [
        "# Optional: try to convert outputs to PDF using LibreOffice\n",
        "def convert_to_pdf(docx_path: Path):\n",
        "    pdf_path = docx_path.with_suffix('.pdf')\n",
        "    try:\n",
        "        cmd = ['soffice', '--headless', '--convert-to', 'pdf', '--outdir', str(docx_path.parent), str(docx_path)]\n",
        "        subprocess.run(cmd, check=True, stdout=subprocess.PIPE, stderr=subprocess.PIPE)\n",
        "        if pdf_path.exists():\n",
        "            print('Converted to PDF:', pdf_path)\n",
        "            return pdf_path\n",
        "    except Exception as e:\n",
        "        print('PDF conversion failed (soffice not found or error):', e)\n",
        "    return None\n",
        "\n",
        "for f in output_folder.iterdir():\n",
        "    if f.suffix.lower() == '.docx':\n",
        "        convert_to_pdf(f)\n",
        "\n",
        "print('Done. Check the generated folder for outputs.')\n"
      ],
      "execution_count": 15,
      "outputs": [
        {
          "output_type": "stream",
          "name": "stdout",
          "text": [
            "PDF conversion failed (soffice not found or error): [Errno 2] No such file or directory: 'soffice'\n",
            "PDF conversion failed (soffice not found or error): [Errno 2] No such file or directory: 'soffice'\n",
            "Done. Check the generated folder for outputs.\n"
          ]
        }
      ],
      "id": "iCpmGetVnCCj"
    }
  ],
  "metadata": {
    "kernelspec": {
      "display_name": "Python 3",
      "language": "python",
      "name": "python3"
    },
    "language_info": {
      "name": "python",
      "version": "3.x"
    },
    "colab": {
      "provenance": [],
      "include_colab_link": true
    }
  },
  "nbformat": 4,
  "nbformat_minor": 5
}