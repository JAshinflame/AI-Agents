{
  "cells": [
    {
      "cell_type": "markdown",
      "metadata": {
        "id": "view-in-github",
        "colab_type": "text"
      },
      "source": [
        "<a href=\"https://colab.research.google.com/github/JAshinflame/AI-Agents/blob/main/method_statement_pipeline.ipynb\" target=\"_parent\"><img src=\"https://colab.research.google.com/assets/colab-badge.svg\" alt=\"Open In Colab\"/></a>"
      ]
    },
    {
      "cell_type": "code",
      "metadata": {
        "colab": {
          "base_uri": "https://localhost:8080/"
        },
        "id": "a5d7fa47",
        "outputId": "5adb3f1c-4e2a-4603-a2d1-c75aa97788c7"
      },
      "source": [
        "!pip install python-docx"
      ],
      "id": "a5d7fa47",
      "execution_count": 5,
      "outputs": [
        {
          "output_type": "stream",
          "name": "stdout",
          "text": [
            "Requirement already satisfied: python-docx in /usr/local/lib/python3.12/dist-packages (1.2.0)\n",
            "Requirement already satisfied: lxml>=3.1.0 in /usr/local/lib/python3.12/dist-packages (from python-docx) (5.4.0)\n",
            "Requirement already satisfied: typing_extensions>=4.9.0 in /usr/local/lib/python3.12/dist-packages (from python-docx) (4.15.0)\n"
          ]
        }
      ]
    },
    {
      "cell_type": "code",
      "source": [
        "!pip install reportlab"
      ],
      "metadata": {
        "colab": {
          "base_uri": "https://localhost:8080/"
        },
        "id": "3Nk-d-l0ZmZW",
        "outputId": "1d8e42b2-f7f9-4600-d5c6-3f1074d8a7d8"
      },
      "id": "3Nk-d-l0ZmZW",
      "execution_count": 6,
      "outputs": [
        {
          "output_type": "stream",
          "name": "stdout",
          "text": [
            "Collecting reportlab\n",
            "  Downloading reportlab-4.4.4-py3-none-any.whl.metadata (1.7 kB)\n",
            "Requirement already satisfied: pillow>=9.0.0 in /usr/local/lib/python3.12/dist-packages (from reportlab) (11.3.0)\n",
            "Requirement already satisfied: charset-normalizer in /usr/local/lib/python3.12/dist-packages (from reportlab) (3.4.4)\n",
            "Downloading reportlab-4.4.4-py3-none-any.whl (2.0 MB)\n",
            "\u001b[?25l   \u001b[90m━━━━━━━━━━━━━━━━━━━━━━━━━━━━━━━━━━━━━━━━\u001b[0m \u001b[32m0.0/2.0 MB\u001b[0m \u001b[31m?\u001b[0m eta \u001b[36m-:--:--\u001b[0m\r\u001b[2K   \u001b[90m━━━━━━━━━━━━━━━━━━━━━━━━━━━━━━━━━━━━━━━━\u001b[0m \u001b[32m2.0/2.0 MB\u001b[0m \u001b[31m60.8 MB/s\u001b[0m eta \u001b[36m0:00:00\u001b[0m\n",
            "\u001b[?25hInstalling collected packages: reportlab\n",
            "Successfully installed reportlab-4.4.4\n"
          ]
        }
      ]
    },
    {
      "cell_type": "code",
      "source": [
        "# Method Statement Automation Pipeline\n",
        "# =====================================\n",
        "# This notebook parses BOQ & project details DOCX files and generates a draft Method Statement PDF.\n",
        "# Run each cell sequentially.\n",
        "\n",
        "from pathlib import Path\n",
        "import docx\n",
        "from reportlab.platypus import SimpleDocTemplate, Paragraph, Spacer, Table, TableStyle, PageBreak\n",
        "from reportlab.lib import colors\n",
        "from reportlab.lib.styles import ParagraphStyle, getSampleStyleSheet\n",
        "from reportlab.lib.pagesizes import A4\n",
        "from reportlab.lib.units import mm\n",
        "\n",
        "# === Paths ===\n",
        "boq_path = Path('ASB - BOQ Extract.docx')\n",
        "project_path = Path('ASB Mini Project Details.docx')\n",
        "template_path = Path('Test 3. Method Statement MS.docx')\n",
        "output_pdf = Path('generated_method_statement.pdf')\n",
        "\n",
        "# === Helpers ===\n",
        "def extract_tables(docx_path):\n",
        "    doc = docx.Document(docx_path)\n",
        "    tables = []\n",
        "    for tbl in doc.tables:\n",
        "        rows = [[c.text.strip() for c in r.cells] for r in tbl.rows]\n",
        "        tables.append(rows)\n",
        "    return tables\n",
        "\n",
        "def parse_boq(boq_path):\n",
        "    tables = extract_tables(boq_path)\n",
        "    boq_rows = None\n",
        "    for tbl in tables:\n",
        "        header = ' '.join(tbl[0]).lower()\n",
        "        if 'item' in header and 'description' in header:\n",
        "            boq_rows = tbl\n",
        "            break\n",
        "    if boq_rows is None and tables:\n",
        "        boq_rows = tables[0]\n",
        "\n",
        "    items = []\n",
        "    if boq_rows:\n",
        "        headers = [h.strip() for h in boq_rows[0]]\n",
        "        for r in boq_rows[1:]:\n",
        "            if all([c == '' for c in r]):\n",
        "                continue\n",
        "            row = {headers[i]: r[i] if i < len(r) else '' for i in range(len(headers))}\n",
        "            items.append(row)\n",
        "    return items\n",
        "\n",
        "def parse_project_info(project_path):\n",
        "    tables = extract_tables(project_path)\n",
        "    info = {}\n",
        "    for tbl in tables:\n",
        "        for row in tbl:\n",
        "            if len(row) >= 2:\n",
        "                k, v = row[0].strip().rstrip(':'), row[1].strip()\n",
        "                if k: info[k] = v\n",
        "    doc = docx.Document(project_path)\n",
        "    for p in doc.paragraphs:\n",
        "        text = p.text.strip()\n",
        "        if ':' in text and len(text.split(':')[0]) < 40:\n",
        "            k, v = text.split(':', 1)\n",
        "            info.setdefault(k.strip(), v.strip())\n",
        "    return info\n",
        "\n",
        "# === Main ===\n",
        "boq_items = parse_boq(boq_path)\n",
        "project_info = parse_project_info(project_path)\n",
        "\n",
        "project_name = project_info.get('Project Name')\n",
        "location = project_info.get('Location')\n",
        "client = project_info.get('Client')\n",
        "main_contractor = project_info.get('Main Contractor')\n",
        "sub_contractor = project_info.get('Sub-Contractor')\n",
        "activity = project_info.get('Activity for Method Statement Test')\n",
        "\n",
        "relevant = [it for it in boq_items if any(k in ' '.join(it.values()).lower() for k in ['block','plaster','render','paint'])]\n",
        "\n",
        "scope = [\n",
        "    f'This Method Statement covers the execution of {activity} for the project {project_name} located at {location}.',\n",
        "    'Work includes blockwork, plastering, and painting per project specifications.'\n",
        "]\n",
        "references = [\n",
        "    'Project Drawings: A-201, A-305',\n",
        "    'Technical Specifications: Section 04200 (Masonry), Section 09200 (Plastering)',\n",
        "    'BOQ Extract: Provided'\n",
        "]\n",
        "materials = [f\"{it.get('Description of Work','')} — {it.get('Quantity','')} {it.get('Unit','')}\".strip() for it in relevant]\n",
        "if not materials:\n",
        "    materials = ['Hollow concrete blocks', 'Cement-sand mortar', 'Cement plaster', 'Paint (emulsion)']\n",
        "procedure = []\n",
        "\n",
        "doc = SimpleDocTemplate(str(output_pdf), pagesize=A4,\n",
        "                        rightMargin=20*mm, leftMargin=20*mm,\n",
        "                        topMargin=20*mm, bottomMargin=20*mm)\n",
        "styles = getSampleStyleSheet()\n",
        "styleN, styleH2 = styles['Normal'], styles['Heading2']\n",
        "elements = []\n",
        "\n",
        "elements.append(Paragraph('METHOD STATEMENT', ParagraphStyle('Title', fontSize=16, alignment=1)))\n",
        "elements.append(Spacer(1,8))\n",
        "meta = [['Project Name:', project_name], ['Location:', location], ['Client:', client]]\n",
        "t = Table(meta, colWidths=[90*mm,80*mm])\n",
        "t.setStyle(TableStyle([('BACKGROUND',(0,0),(0,-1),colors.lightgrey),('GRID',(0,0),(-1,-1),0.25,colors.grey)]))\n",
        "elements += [t, Spacer(1,12)]\n",
        "\n",
        "def add_section(title, lines):\n",
        "    elements.append(Paragraph(title, styleH2))\n",
        "    for ln in lines: elements.append(Paragraph(ln, styleN)); elements.append(Spacer(1,5))\n",
        "    elements.append(Spacer(1,10))\n",
        "\n",
        "add_section('Scope', scope)\n",
        "add_section('References', references)\n",
        "add_section('Materials', [f'• {m}' for m in materials])\n",
        "add_section('Work Procedure', procedure)\n",
        "\n",
        "doc.build(elements)\n",
        "print(f'✅ Generated draft Method Statement saved as: {output_pdf.resolve()}')\n"
      ],
      "metadata": {
        "colab": {
          "base_uri": "https://localhost:8080/"
        },
        "id": "wp3Gy_XDY2dG",
        "outputId": "bef1b568-3e8a-4d5e-dab9-aea013c2df8f"
      },
      "id": "wp3Gy_XDY2dG",
      "execution_count": 8,
      "outputs": [
        {
          "output_type": "stream",
          "name": "stdout",
          "text": [
            "✅ Generated draft Method Statement saved as: /content/generated_method_statement.pdf\n"
          ]
        }
      ]
    },
    {
      "cell_type": "code",
      "metadata": {
        "id": "50c6fae1"
      },
      "source": [],
      "id": "50c6fae1",
      "execution_count": null,
      "outputs": []
    }
  ],
  "metadata": {
    "kernelspec": {
      "display_name": "Python 3",
      "language": "python",
      "name": "python3"
    },
    "language_info": {
      "name": "python",
      "version": "3.x"
    },
    "colab": {
      "provenance": [],
      "include_colab_link": true
    }
  },
  "nbformat": 4,
  "nbformat_minor": 5
}
