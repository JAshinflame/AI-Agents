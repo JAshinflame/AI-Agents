{
  "cells": [
    {
      "cell_type": "markdown",
      "metadata": {
        "id": "view-in-github",
        "colab_type": "text"
      },
      "source": [
        "<a href=\"https://colab.research.google.com/github/JAshinflame/AI-Agents/blob/main/system_integration_pipeline.ipynb\" target=\"_parent\"><img src=\"https://colab.research.google.com/assets/colab-badge.svg\" alt=\"Open In Colab\"/></a>"
      ]
    },
    {
      "cell_type": "markdown",
      "metadata": {
        "id": "G85stX7r_-21"
      },
      "source": [
        "# System Integration Pipeline (WIR -> NCR) Notebook\n",
        "\n",
        "This notebook contains an example orchestration for extracting data from a WIR, generating an NCR and RFI, and notifying responsible parties. Sample generated files are stored in the `system_integration_outputs` folder."
      ],
      "id": "G85stX7r_-21"
    },
    {
      "cell_type": "code",
      "metadata": {
        "id": "Ez_dJ1RS_-23"
      },
      "source": [
        "from pathlib import Path\n",
        "p = Path('/mnt/data/system_integration_outputs')\n",
        "for f in p.iterdir():\n",
        "    print(f.name)"
      ],
      "execution_count": null,
      "outputs": [],
      "id": "Ez_dJ1RS_-23"
    },
    {
      "cell_type": "markdown",
      "metadata": {
        "id": "nBSxrKRL_-24"
      },
      "source": [
        "## Example: show extracted JSON"
      ],
      "id": "nBSxrKRL_-24"
    },
    {
      "cell_type": "code",
      "metadata": {
        "id": "rdulumV0_-24"
      },
      "source": [
        "import json\n",
        "print(open('/mnt/data/system_integration_outputs/wir_extracted_example.json').read())"
      ],
      "execution_count": null,
      "outputs": [],
      "id": "rdulumV0_-24"
    },
    {
      "cell_type": "markdown",
      "metadata": {
        "id": "LxbmPieN_-24"
      },
      "source": [
        "## Notes\n",
        "- The DOCX files here are programmatically generated samples that illustrate the output of the pipeline. To use your exact templates, adapt the docxtpl rendering approach in the notebook."
      ],
      "id": "LxbmPieN_-24"
    }
  ],
  "metadata": {
    "kernelspec": {
      "display_name": "Python 3",
      "language": "python",
      "name": "python3"
    },
    "language_info": {
      "name": "python",
      "version": "3.8"
    },
    "colab": {
      "provenance": [],
      "include_colab_link": true
    }
  },
  "nbformat": 4,
  "nbformat_minor": 5
}